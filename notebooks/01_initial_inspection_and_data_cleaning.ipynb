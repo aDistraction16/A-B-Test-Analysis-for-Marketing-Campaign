{
 "cells": [
  {
   "cell_type": "code",
   "execution_count": null,
   "id": "24528402",
   "metadata": {},
   "outputs": [],
   "source": [
    "import pandas as pd\n",
    "\n",
    "raw_data_path = '../data/00_raw/raw_ab_data.csv' # Make sure your CSV is named this\n",
    "df = pd.read_csv(raw_data_path)"
   ]
  },
  {
   "cell_type": "markdown",
   "id": "89bc3882",
   "metadata": {},
   "source": [
    "# *INITIAL INSPECTION*"
   ]
  },
  {
   "cell_type": "code",
   "execution_count": null,
   "id": "c4293687",
   "metadata": {},
   "outputs": [
    {
     "name": "stdout",
     "output_type": "stream",
     "text": [
      "--- DataFrame Header ---\n",
      "   user_id timestamp      group landing_page  converted\n",
      "0   851104   11:48.6    control     old_page          0\n",
      "1   804228   01:45.2    control     old_page          0\n",
      "2   661590   55:06.2  treatment     new_page          0\n",
      "3   853541   28:03.1  treatment     new_page          0\n",
      "4   864975   52:26.2    control     old_page          1\n",
      "\n",
      "--- DataFrame Tail ---\n",
      "        user_id timestamp      group landing_page  converted\n",
      "294475   734608   45:03.4    control     old_page          0\n",
      "294476   697314   20:29.0    control     old_page          0\n",
      "294477   715931   40:24.5  treatment     new_page          0\n",
      "294478   759899   20:29.0  treatment     new_page          0\n",
      "294479   643532   40:24.5  treatment     new_page          0\n",
      "\n",
      "--- DataFrame Info ---\n",
      "<class 'pandas.core.frame.DataFrame'>\n",
      "RangeIndex: 294480 entries, 0 to 294479\n",
      "Data columns (total 5 columns):\n",
      " #   Column        Non-Null Count   Dtype \n",
      "---  ------        --------------   ----- \n",
      " 0   user_id       294480 non-null  int64 \n",
      " 1   timestamp     294480 non-null  object\n",
      " 2   group         294480 non-null  object\n",
      " 3   landing_page  294480 non-null  object\n",
      " 4   converted     294480 non-null  int64 \n",
      "dtypes: int64(2), object(3)\n",
      "memory usage: 11.2+ MB\n",
      "None\n",
      "\n",
      "--- Descriptive Statistics ---\n",
      "              user_id timestamp      group landing_page      converted\n",
      "count   294480.000000    294480     294480       294480  294480.000000\n",
      "unique            NaN     35993          2            2            NaN\n",
      "top               NaN   33:53.2  treatment     new_page            NaN\n",
      "freq              NaN        22     147278       147241            NaN\n",
      "mean    787973.538896       NaN        NaN          NaN       0.119658\n",
      "std      91210.917091       NaN        NaN          NaN       0.324562\n",
      "min     630000.000000       NaN        NaN          NaN       0.000000\n",
      "25%     709031.750000       NaN        NaN          NaN       0.000000\n",
      "50%     787932.500000       NaN        NaN          NaN       0.000000\n",
      "75%     866911.250000       NaN        NaN          NaN       0.000000\n",
      "max     945999.000000       NaN        NaN          NaN       1.000000\n",
      "\n",
      "--- Value Counts for 'group' ---\n",
      "group\n",
      "treatment    147278\n",
      "control      147202\n",
      "Name: count, dtype: int64\n",
      "\n",
      "--- Value Counts for 'landing_page' ---\n",
      "landing_page\n",
      "new_page    147241\n",
      "old_page    147239\n",
      "Name: count, dtype: int64\n",
      "\n",
      "--- Value Counts for 'converted' ---\n",
      "converted\n",
      "0    259243\n",
      "1     35237\n",
      "Name: count, dtype: int64\n",
      "\n",
      "--- Duplicate Rows ---\n",
      "Number of duplicate rows: 0\n"
     ]
    }
   ],
   "source": [
    "# DataFrame Header\n",
    "print(\"--- DataFrame Header ---\")\n",
    "print(df.head())\n",
    "# DataFrame Tail\n",
    "print(\"\\n--- DataFrame Tail ---\")\n",
    "print(df.tail())\n",
    "# DataFrame Info to check data types and missing values\n",
    "print(\"\\n--- DataFrame Info ---\")\n",
    "print(df.info())\n",
    "\n",
    "# Descriptive Statistics can be ignored since numerical columns are id type and binary type\n",
    "print(\"\\n--- Descriptive Statistics ---\")\n",
    "print(df.describe(include='all'))\n",
    "\n",
    "# Value Counts for categorical columns to check for inconsistent data entries\n",
    "categorical_columns = ['group', 'landing_page', 'converted']\n",
    "for col in categorical_columns:\n",
    "    print(f\"\\n--- Value Counts for '{col}' ---\")\n",
    "    print(df[col].value_counts())\n",
    "\n",
    "# Check for duplicates\n",
    "print(\"\\n--- Duplicate Rows ---\")\n",
    "duplicates = df.duplicated()\n",
    "print(f\"Number of duplicate rows: {duplicates.sum()}\")"
   ]
  },
  {
   "cell_type": "markdown",
   "id": "d362f982",
   "metadata": {},
   "source": [
    "- No errors in formatting and data entry\n",
    "- timestamp should be formatted to datetime, other columns have correct data types\n",
    "- No missing values\n",
    "- Descriptive stats can be ignored since no pure numerical columns only user_id and converted(binary)\n",
    "- No inconsistent date for categorical Columns\n",
    "- No duplicate rows"
   ]
  },
  {
   "cell_type": "markdown",
   "id": "af3445e4",
   "metadata": {},
   "source": [
    "# *Data Cleaning*\n",
    "\n",
    "- convert timestamp column data type to datetime"
   ]
  },
  {
   "cell_type": "code",
   "execution_count": null,
   "id": "706f3abf",
   "metadata": {},
   "outputs": [],
   "source": [
    "cleaned_df = df.copy()\n",
    "\n",
    "# Convert timestamp column to datetime\n",
    "# The timestamp format is MM:SS.s (minutes:seconds.decimal)\n",
    "# We need to convert this to a proper time format\n",
    "cleaned_df['timestamp'] = pd.to_datetime('00:' + cleaned_df['timestamp'], format='%H:%M:%S.%f')\n",
    "\n",
    "# show the data types to confirm the change and check for errors in formatting\n",
    "print(\"--- Cleaned DataFrame Data Types ---\")\n",
    "print(cleaned_df.dtypes)\n",
    "\n",
    "print(\"\\n--- Cleaned DataFrame Head ---\")\n",
    "print(cleaned_df.head())\n"
   ]
  },
  {
   "cell_type": "code",
   "execution_count": null,
   "id": "7e08ad86",
   "metadata": {},
   "outputs": [],
   "source": [
    "# Save the cleaned DataFrame to a new CSV file\n",
    "cleaned_data_path = '../data/01_cleaned/cleaned_ab_data.csv'\n",
    "cleaned_df.to_csv(cleaned_data_path, index=False)"
   ]
  }
 ],
 "metadata": {
  "kernelspec": {
   "display_name": ".venv",
   "language": "python",
   "name": "python3"
  },
  "language_info": {
   "codemirror_mode": {
    "name": "ipython",
    "version": 3
   },
   "file_extension": ".py",
   "mimetype": "text/x-python",
   "name": "python",
   "nbconvert_exporter": "python",
   "pygments_lexer": "ipython3",
   "version": "3.13.5"
  }
 },
 "nbformat": 4,
 "nbformat_minor": 5
}
